{
 "cells": [
  {
   "cell_type": "markdown",
   "metadata": {
    "id": "gtAMARYk0SWq"
   },
   "source": [
    "#**LAB 1: Cleaning data using dropna() and fillna()**\n",
    "\n",
    "The `hmeq_small` dataset contains information on 5960 home equity loans, including 7 features on the characteristics of the loan.\n",
    "\n",
    "- Load the data set `hmeq_small.csv` as a data frame.\n",
    "- Create a new data frame with all the rows with missing data deleted.\n",
    "- Create a second data frame with all missing data filled in with the median value of the column.\n",
    "- Find the means of the columns for both new data frames.\n",
    "\n",
    "Ex: Using only the first hundred rows, found in `hmeq_sample.csv`, the output is:\n",
    "```\n",
    "Median for hmeqDelete are  LOAN        3250.000000\n",
    "MORTDUE    64793.500000\n",
    "VALUE      75525.000000\n",
    "YOJ            9.000000\n",
    "CLAGE        119.999883\n",
    "CLNO          13.500000\n",
    "DEBTINC       31.824143\n",
    "dtype: float64\n",
    "Median for hmeqReplace are  LOAN        3000.000000\n",
    "MORTDUE    47000.000000\n",
    "VALUE      61000.000000\n",
    "YOJ            6.000000\n",
    "CLAGE        122.950000\n",
    "CLNO          14.000000\n",
    "DEBTINC       31.588503\n",
    "dtype: float64\n",
    "```"
   ]
  },
  {
   "cell_type": "code",
   "execution_count": null,
   "metadata": {
    "id": "b8y9XW1W0RMB"
   },
   "outputs": [],
   "source": [
    "import pandas as pd\n",
    "\n",
    "# Read in hmeq_small.csv\n",
    "hmeq = # Your code here\n",
    "\n",
    "# Create a new data frame with the rows with missing values dropped\n",
    "hmeqDelete = # Your code here\n",
    "\n",
    "# Create a new data frame with the missing values filled in by the median of the column\n",
    "hmeqReplace = # Your code here\n",
    "\n",
    "# Print the median of the columns for each new data frame\n",
    "print(\"Median for hmeqDelete are \", # Your code here)\n",
    "\n",
    "print(\"Median for hmeqReplace are \", # Your code here)"
   ]
  },
  {
   "cell_type": "markdown",
   "metadata": {
    "id": "_yebn4pM2riW"
   },
   "source": [
    "#**LAB 2: Structuring data using scale() and MinMaxScaler()**\n",
    "\n",
    "The `hmeq_small` dataset contains information on 5960 home equity loans, including 7 features on the characteristics of the loan.\n",
    "\n",
    "- Load the `hmeq_small.csv` data set as a data frame.\n",
    "- Standardize the data set as a new data frame.\n",
    "- Normalize the data set as a new data frame.\n",
    "- Print the means and variance of both the standardized and normalized data.\n",
    "\n",
    "Ex: Using the first 100 rows, found in `hmeq_sample.csv`, the output is:\n",
    "```\n",
    "The means of hmeqStand are  LOAN      -4.984675e-17\n",
    "MORTDUE    1.914178e-17\n",
    "VALUE     -1.790682e-18\n",
    "YOJ       -7.235161e-17\n",
    "CLAGE     -4.194176e-17\n",
    "CLNO      -6.033821e-17\n",
    "DEBTINC    6.125368e-17\n",
    "dtype: float64\n",
    "The variance of hmeqStand are  LOAN       1.010309\n",
    "MORTDUE    1.011628\n",
    "VALUE      1.010870\n",
    "YOJ        1.011364\n",
    "CLAGE      1.011236\n",
    "CLNO       1.010989\n",
    "DEBTINC    1.035714\n",
    "dtype: float64\n",
    "The means of hmeqNorm are  LOAN       0.671006\n",
    "MORTDUE    0.358735\n",
    "VALUE      0.299044\n",
    "YOJ        0.292135\n",
    "CLAGE      0.448986\n",
    "CLNO       0.346377\n",
    "DEBTINC    0.624927\n",
    "dtype: float64\n",
    "The variance of hmeqNorm are  LOAN       0.072647\n",
    "MORTDUE    0.061099\n",
    "VALUE      0.035189\n",
    "YOJ        0.056618\n",
    "CLAGE      0.051232\n",
    "CLNO       0.035601\n",
    "DEBTINC    0.049705\n",
    "dtype: float64\n",
    "\n",
    "\n",
    "```"
   ]
  },
  {
   "cell_type": "code",
   "execution_count": null,
   "metadata": {
    "id": "WhNg2ffC2xeC"
   },
   "outputs": [],
   "source": [
    "import pandas as pd\n",
    "from sklearn import preprocessing\n",
    "\n",
    "hmeq = # Read in the file hmeq_small.csv\n",
    "\n",
    "# Standardize the data\n",
    "standardized = # Your code here\n",
    "\n",
    "# Output the standardized data as a data frame\n",
    "hmeqStand = # Your code here\n",
    "\n",
    "# Normalize the data\n",
    "normalized = # Your code here\n",
    "\n",
    "# Output the normalized data as a data frame\n",
    "hmeqNorm = # Your code here\n",
    "\n",
    "# Print the means and variance of hmeqStand and hmeqNorm\n",
    "print(\"The means of hmeqStand are \", # Your code here)\n",
    "print(\"The variance of hmeqStand are \", # Your code here)\n",
    "print(\"The means of hmeqNorm are \", # Your code here)\n",
    "print(\"The variance of hmeqNorm are \", # Your code here)"
   ]
  }
 ],
 "metadata": {
  "colab": {
   "authorship_tag": "ABX9TyNsF6O5aHdSt7n3CW2+2Zjx",
   "provenance": []
  },
  "kernelspec": {
   "display_name": "Python 3",
   "name": "python3"
  },
  "language_info": {
   "name": "python"
  }
 },
 "nbformat": 4,
 "nbformat_minor": 0
}
